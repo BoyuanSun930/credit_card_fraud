{
 "cells": [
  {
   "cell_type": "markdown",
   "metadata": {},
   "source": [
    "# CS182. Artificial Intelligence - Final Project\n",
    "\n",
    "---\n",
    "\n",
    "## Credit Card Fraud Classification/Amount Prediction\n",
    "\n",
    "### Presented by Boyuan Sun, Yijun Shen, Shenghao Jiang"
   ]
  },
  {
   "cell_type": "code",
   "execution_count": 1,
   "metadata": {
    "collapsed": true
   },
   "outputs": [],
   "source": [
    "# import libraries\n",
    "import json\n",
    "import os\n",
    "import sys\n",
    "import time\n",
    "from copy import deepcopy\n",
    "import collections\n",
    "import numpy as np\n",
    "import pandas as pd\n",
    "import seaborn as sns\n",
    "import matplotlib.pyplot as plt\n",
    "from sklearn.model_selection import train_test_split\n",
    "#from sklearn.neighbors import KNeighborsClassifier as KNN\n",
    "from sklearn.tree import DecisionTreeClassifier as DecisionTree\n",
    "from sklearn.ensemble import RandomForestClassifier\n",
    "from sklearn.discriminant_analysis import LinearDiscriminantAnalysis\n",
    "from sklearn.discriminant_analysis import QuadraticDiscriminantAnalysis\n",
    "from sklearn.model_selection import KFold\n",
    "from sklearn.metrics import roc_auc_score\n",
    "from sklearn.metrics import confusion_matrix\n",
    "%matplotlib inline\n",
    "\n",
    "import warnings\n",
    "warnings.filterwarnings(\"ignore\")"
   ]
  },
  {
   "cell_type": "code",
   "execution_count": 2,
   "metadata": {},
   "outputs": [
    {
     "data": {
      "text/html": [
       "<div>\n",
       "<style>\n",
       "    .dataframe thead tr:only-child th {\n",
       "        text-align: right;\n",
       "    }\n",
       "\n",
       "    .dataframe thead th {\n",
       "        text-align: left;\n",
       "    }\n",
       "\n",
       "    .dataframe tbody tr th {\n",
       "        vertical-align: top;\n",
       "    }\n",
       "</style>\n",
       "<table border=\"1\" class=\"dataframe\">\n",
       "  <thead>\n",
       "    <tr style=\"text-align: right;\">\n",
       "      <th></th>\n",
       "      <th>Time</th>\n",
       "      <th>V1</th>\n",
       "      <th>V2</th>\n",
       "      <th>V3</th>\n",
       "      <th>V4</th>\n",
       "      <th>V5</th>\n",
       "      <th>V6</th>\n",
       "      <th>V7</th>\n",
       "      <th>V8</th>\n",
       "      <th>V9</th>\n",
       "      <th>...</th>\n",
       "      <th>V21</th>\n",
       "      <th>V22</th>\n",
       "      <th>V23</th>\n",
       "      <th>V24</th>\n",
       "      <th>V25</th>\n",
       "      <th>V26</th>\n",
       "      <th>V27</th>\n",
       "      <th>V28</th>\n",
       "      <th>Amount</th>\n",
       "      <th>Class</th>\n",
       "    </tr>\n",
       "  </thead>\n",
       "  <tbody>\n",
       "    <tr>\n",
       "      <th>0</th>\n",
       "      <td>0.0</td>\n",
       "      <td>-1.359807</td>\n",
       "      <td>-0.072781</td>\n",
       "      <td>2.536347</td>\n",
       "      <td>1.378155</td>\n",
       "      <td>-0.338321</td>\n",
       "      <td>0.462388</td>\n",
       "      <td>0.239599</td>\n",
       "      <td>0.098698</td>\n",
       "      <td>0.363787</td>\n",
       "      <td>...</td>\n",
       "      <td>-0.018307</td>\n",
       "      <td>0.277838</td>\n",
       "      <td>-0.110474</td>\n",
       "      <td>0.066928</td>\n",
       "      <td>0.128539</td>\n",
       "      <td>-0.189115</td>\n",
       "      <td>0.133558</td>\n",
       "      <td>-0.021053</td>\n",
       "      <td>149.62</td>\n",
       "      <td>0</td>\n",
       "    </tr>\n",
       "    <tr>\n",
       "      <th>1</th>\n",
       "      <td>0.0</td>\n",
       "      <td>1.191857</td>\n",
       "      <td>0.266151</td>\n",
       "      <td>0.166480</td>\n",
       "      <td>0.448154</td>\n",
       "      <td>0.060018</td>\n",
       "      <td>-0.082361</td>\n",
       "      <td>-0.078803</td>\n",
       "      <td>0.085102</td>\n",
       "      <td>-0.255425</td>\n",
       "      <td>...</td>\n",
       "      <td>-0.225775</td>\n",
       "      <td>-0.638672</td>\n",
       "      <td>0.101288</td>\n",
       "      <td>-0.339846</td>\n",
       "      <td>0.167170</td>\n",
       "      <td>0.125895</td>\n",
       "      <td>-0.008983</td>\n",
       "      <td>0.014724</td>\n",
       "      <td>2.69</td>\n",
       "      <td>0</td>\n",
       "    </tr>\n",
       "    <tr>\n",
       "      <th>2</th>\n",
       "      <td>1.0</td>\n",
       "      <td>-1.358354</td>\n",
       "      <td>-1.340163</td>\n",
       "      <td>1.773209</td>\n",
       "      <td>0.379780</td>\n",
       "      <td>-0.503198</td>\n",
       "      <td>1.800499</td>\n",
       "      <td>0.791461</td>\n",
       "      <td>0.247676</td>\n",
       "      <td>-1.514654</td>\n",
       "      <td>...</td>\n",
       "      <td>0.247998</td>\n",
       "      <td>0.771679</td>\n",
       "      <td>0.909412</td>\n",
       "      <td>-0.689281</td>\n",
       "      <td>-0.327642</td>\n",
       "      <td>-0.139097</td>\n",
       "      <td>-0.055353</td>\n",
       "      <td>-0.059752</td>\n",
       "      <td>378.66</td>\n",
       "      <td>0</td>\n",
       "    </tr>\n",
       "    <tr>\n",
       "      <th>3</th>\n",
       "      <td>1.0</td>\n",
       "      <td>-0.966272</td>\n",
       "      <td>-0.185226</td>\n",
       "      <td>1.792993</td>\n",
       "      <td>-0.863291</td>\n",
       "      <td>-0.010309</td>\n",
       "      <td>1.247203</td>\n",
       "      <td>0.237609</td>\n",
       "      <td>0.377436</td>\n",
       "      <td>-1.387024</td>\n",
       "      <td>...</td>\n",
       "      <td>-0.108300</td>\n",
       "      <td>0.005274</td>\n",
       "      <td>-0.190321</td>\n",
       "      <td>-1.175575</td>\n",
       "      <td>0.647376</td>\n",
       "      <td>-0.221929</td>\n",
       "      <td>0.062723</td>\n",
       "      <td>0.061458</td>\n",
       "      <td>123.50</td>\n",
       "      <td>0</td>\n",
       "    </tr>\n",
       "    <tr>\n",
       "      <th>4</th>\n",
       "      <td>2.0</td>\n",
       "      <td>-1.158233</td>\n",
       "      <td>0.877737</td>\n",
       "      <td>1.548718</td>\n",
       "      <td>0.403034</td>\n",
       "      <td>-0.407193</td>\n",
       "      <td>0.095921</td>\n",
       "      <td>0.592941</td>\n",
       "      <td>-0.270533</td>\n",
       "      <td>0.817739</td>\n",
       "      <td>...</td>\n",
       "      <td>-0.009431</td>\n",
       "      <td>0.798278</td>\n",
       "      <td>-0.137458</td>\n",
       "      <td>0.141267</td>\n",
       "      <td>-0.206010</td>\n",
       "      <td>0.502292</td>\n",
       "      <td>0.219422</td>\n",
       "      <td>0.215153</td>\n",
       "      <td>69.99</td>\n",
       "      <td>0</td>\n",
       "    </tr>\n",
       "  </tbody>\n",
       "</table>\n",
       "<p>5 rows × 31 columns</p>\n",
       "</div>"
      ],
      "text/plain": [
       "   Time        V1        V2        V3        V4        V5        V6        V7  \\\n",
       "0   0.0 -1.359807 -0.072781  2.536347  1.378155 -0.338321  0.462388  0.239599   \n",
       "1   0.0  1.191857  0.266151  0.166480  0.448154  0.060018 -0.082361 -0.078803   \n",
       "2   1.0 -1.358354 -1.340163  1.773209  0.379780 -0.503198  1.800499  0.791461   \n",
       "3   1.0 -0.966272 -0.185226  1.792993 -0.863291 -0.010309  1.247203  0.237609   \n",
       "4   2.0 -1.158233  0.877737  1.548718  0.403034 -0.407193  0.095921  0.592941   \n",
       "\n",
       "         V8        V9  ...         V21       V22       V23       V24  \\\n",
       "0  0.098698  0.363787  ...   -0.018307  0.277838 -0.110474  0.066928   \n",
       "1  0.085102 -0.255425  ...   -0.225775 -0.638672  0.101288 -0.339846   \n",
       "2  0.247676 -1.514654  ...    0.247998  0.771679  0.909412 -0.689281   \n",
       "3  0.377436 -1.387024  ...   -0.108300  0.005274 -0.190321 -1.175575   \n",
       "4 -0.270533  0.817739  ...   -0.009431  0.798278 -0.137458  0.141267   \n",
       "\n",
       "        V25       V26       V27       V28  Amount  Class  \n",
       "0  0.128539 -0.189115  0.133558 -0.021053  149.62      0  \n",
       "1  0.167170  0.125895 -0.008983  0.014724    2.69      0  \n",
       "2 -0.327642 -0.139097 -0.055353 -0.059752  378.66      0  \n",
       "3  0.647376 -0.221929  0.062723  0.061458  123.50      0  \n",
       "4 -0.206010  0.502292  0.219422  0.215153   69.99      0  \n",
       "\n",
       "[5 rows x 31 columns]"
      ]
     },
     "execution_count": 2,
     "metadata": {},
     "output_type": "execute_result"
    }
   ],
   "source": [
    "data = pd.read_csv('creditcard.csv')\n",
    "data.head()"
   ]
  },
  {
   "cell_type": "markdown",
   "metadata": {},
   "source": [
    "### Before Constructing Models : Train-test split and defining predictors\n",
    "The predictors will be Principle Components after PCA, which are preprocessed in the given dataset and Amount.\n",
    "We have to be very careful with the train-test split: since the dataset is very imbalanced, we have to make sure that the train/test data set include enough amount of the observation that has a label of 1."
   ]
  },
  {
   "cell_type": "code",
   "execution_count": 3,
   "metadata": {
    "collapsed": true
   },
   "outputs": [],
   "source": [
    "# Define predictors\n",
    "predictors = list(data.columns)\n",
    "predictors.remove('Class')\n",
    "predictors.remove('Time')"
   ]
  },
  {
   "cell_type": "code",
   "execution_count": 4,
   "metadata": {
    "collapsed": true
   },
   "outputs": [],
   "source": [
    "# Train-test split\n",
    "# X_train, X_test, y_train, y_test = train_test_split(X, y, test_size=0.33, random_state=42)\n",
    "X_train, X_test, y_train, y_test = train_test_split(data[predictors], data['Class'], test_size =.33, random_state = 182, stratify = data['Class'])"
   ]
  },
  {
   "cell_type": "code",
   "execution_count": 5,
   "metadata": {
    "collapsed": true
   },
   "outputs": [],
   "source": [
    "y_train = pd.DataFrame(y_train, columns = ['Class'])\n",
    "y_test = pd.DataFrame(y_test, columns = ['Class'])"
   ]
  },
  {
   "cell_type": "code",
   "execution_count": 6,
   "metadata": {
    "scrolled": false
   },
   "outputs": [
    {
     "name": "stdout",
     "output_type": "stream",
     "text": [
      "In training sets number of label 1: 330\n",
      "In testing sets number of label 1: 162\n"
     ]
    }
   ],
   "source": [
    "# Ensure that we have some labels of 1 in both training and testing sets\n",
    "print('In training sets number of label 1: {}'.format(len(np.where(y_train == 1)[0])))\n",
    "print('In testing sets number of label 1: {}'.format(len(np.where(y_test == 1)[0])))"
   ]
  },
  {
   "cell_type": "markdown",
   "metadata": {},
   "source": [
    "### 1. Baseline model : Zero Classifier and Performance Metric Discussion\n",
    "We present a baseline model that always predicts label 0, meaning that there is no fraud within the time. This is the model we are aiming to beat using the models and techniques learned in the course to improve the metric we choose to evaluate the model.\n",
    "\n",
    "$$\\text{Train accuracy} : 0.9982398981387859$$\n",
    "\n",
    "$$\\text{Test accuracy} : 0.9983703974263518$$\n",
    "\n",
    "$$\\text{TPR} = 0$$\n",
    "But sicne the dataset is very unbalanced, we are going to use other metrics, such as a confusion matrix and AUC (area under the curve) for measuring the performance of the classifier. AUC will be calculated and plotted after we have built up all the models."
   ]
  },
  {
   "cell_type": "code",
   "execution_count": 7,
   "metadata": {
    "collapsed": true
   },
   "outputs": [],
   "source": [
    "class ZeroClassifier:\n",
    "    \"\"\" Class for zero classifier\n",
    "    \"\"\"\n",
    "    \n",
    "    def predict(self, X):\n",
    "        return np.zeros([len(X),1]).reshape([len(X),])\n",
    "    \n",
    "    def score(self, X, y):\n",
    "        \"\"\"\n",
    "        INPUTS\n",
    "        ------\n",
    "        X: predictors\n",
    "        y: labels\n",
    "        \n",
    "        OUTPUTS\n",
    "        -------\n",
    "        the accuracy score for y\n",
    "        \"\"\"\n",
    "        return list(y.values).count(0) / len(y)\n",
    "    \n",
    "    def predict_proba(self, X):\n",
    "        \"\"\"\n",
    "        INPUTS\n",
    "        ------\n",
    "        X: predictors\n",
    "        \n",
    "        OUTPUTS\n",
    "        -------\n",
    "        probas: probabilities for being classified as in the two labels. Since this is the zero classifier which\n",
    "        will always yeild 0, the probability of being label 0 will be 1 and being label 1 will be 0.\n",
    "        \n",
    "        \"\"\"\n",
    "        probas = np.array([[1,0] for i in range(len(X))])\n",
    "        return probas"
   ]
  },
  {
   "cell_type": "markdown",
   "metadata": {},
   "source": [
    "### accuracy score (might not be a good metric)"
   ]
  },
  {
   "cell_type": "code",
   "execution_count": 8,
   "metadata": {},
   "outputs": [
    {
     "name": "stdout",
     "output_type": "stream",
     "text": [
      "Train accuracy : 0.9982706215281417\n",
      "Test accuracy : 0.9982763573685722\n"
     ]
    }
   ],
   "source": [
    "# Construct a zero classifier and find the acccuracy score\n",
    "zero_classifier = ZeroClassifier()\n",
    "print('Train accuracy : {}'.format(zero_classifier.score(X_train, y_train)))\n",
    "print('Test accuracy : {}'.format(zero_classifier.score(X_test, y_test)))"
   ]
  },
  {
   "cell_type": "markdown",
   "metadata": {},
   "source": [
    "### confusion matrix and TPR\n",
    "1. TN-Truth Negative: the classifier gives a correct 0 prediction when the observation is 0\n",
    "\n",
    "2. FP-Truth Negative: the classifier gives a incorrect label 1 prediction when the observation is 0\n",
    "\n",
    "3. TP-Truth Negative: the classifier gives a correct 1 prediction when the observation is 1\n",
    "\n",
    "4. FN-Truth Negative: the classifier gives a correct 0 prediction when the observation is 1\n",
    "\n",
    "Obs\\Pred|0|1|\n",
    "----|----|----\n",
    "    0 | TN|FP\n",
    "    1 | FN|TP\n",
    "And the confusion matrix is:\n",
    "\n",
    "Obs\\Pred|0|1|\n",
    "----|----|----\n",
    "    0 | 93825|0\n",
    "    1 | 162|0\n",
    "    \n",
    "We propose that TPR-Truth Positive Rate is a good measure in this case. TPR gives a good meature of the times that the model gives a correct output when the actual prediction is 1. In this case, we are more concerned with whether or not the model can successfully identify a credit card fraud when there is one. The TPR for the zero classifier is 0 based on the below calculation:\n",
    "$$TPR = \\frac{TP}{TP + FN} = 0$$\n",
    "This is saying that the model does not identify any credit card fraud when there is one."
   ]
  },
  {
   "cell_type": "code",
   "execution_count": 9,
   "metadata": {},
   "outputs": [
    {
     "data": {
      "text/plain": [
       "array([[93825,     0],\n",
       "       [  162,     0]])"
      ]
     },
     "execution_count": 9,
     "metadata": {},
     "output_type": "execute_result"
    }
   ],
   "source": [
    "# confusion matric format:\n",
    "# O\\Pred   0     1\n",
    "# B  0     TN    FP  ON\n",
    "# S  1     FN    TP  OP\n",
    "#          PN    PP\n",
    "confusion_matrix(y_test, zero_classifier.predict(X_test))"
   ]
  },
  {
   "cell_type": "markdown",
   "metadata": {},
   "source": [
    "### 2. Adjusted Linear Regression for Classification\n",
    "We can still use Linear Regression for classification but the problem is that we have to set threshold for classification of labels as linear regression, unlike Logistic Regression which will always give probability values in the range of 0 to 1, could yield a probability less than 0 or bigger than 1, which is hard to interpret.\n",
    "We choose to regard the probability value lower than 0 as 0 and higher than 1 as 1 and will classify the label as 0 if the predicted probability value is less than 0.5.\n",
    "\n",
    "$$\\text{Linear regression on the train set} : 0.998794675610523$$\n",
    "$$\\text{Linear regression on the test set} : 0.9987977060657325$$\n",
    "$$\\text{TPR} = \\frac{65}{65 + 97} = 0.4012345679 $$"
   ]
  },
  {
   "cell_type": "code",
   "execution_count": 106,
   "metadata": {
    "collapsed": true
   },
   "outputs": [],
   "source": [
    "class LinearRegression_Classification:\n",
    "    \"\"\" The self-implemented LinearRegression class that can do multivarible linear regression for classification. \n",
    "        The four functions we choose to implement is fit, predict, predict_proba and score. Note that this linear\n",
    "        model is designed specifically for classification\n",
    "        \n",
    "        Methods\n",
    "        -------\n",
    "        fit(self, X, y): fit the train set given the response y\n",
    "        predict(self, X): give the prediction for X as labels\n",
    "        predict_proba(self, X): \n",
    "        score(self, X, y): give the accuracy given the input of X and the correct output as a measure of the \n",
    "                           performance\n",
    "        \n",
    "        \n",
    "    \"\"\"\n",
    "    def __init__(self):\n",
    "        self.betas = []\n",
    "        \n",
    "    def fit(self, X, y):\n",
    "        #add a column of ones for the coeffcient\n",
    "        n = X.shape[0]\n",
    "        ones_col = np.ones((n, 1))\n",
    "        X = np.concatenate((ones_col, X), axis=1)\n",
    "        \n",
    "        # the formula: beta = (X^T * X)^-1 * X^T * y\n",
    "        self.betas = np.linalg.pinv(X.T @ X) @ X.T @ y\n",
    "    \n",
    "    def predict(self, X):\n",
    "        #add a column of ones for the coeffcient\n",
    "        n = X.shape[0]\n",
    "        ones_col = np.ones((n, 1))\n",
    "        X = np.concatenate((ones_col, X), axis=1)\n",
    "        y_hat = np.dot(X, self.betas)\n",
    "        for index, y_pred in enumerate(y_hat):\n",
    "            if y_pred <= 0.5:\n",
    "                y_hat[index] = 0\n",
    "            else:\n",
    "                y_hat[index] = 1\n",
    "        return y_hat\n",
    "    \n",
    "    def predict_proba(self, X):\n",
    "        n = X.shape[0]\n",
    "        ones_col = np.ones((n, 1))\n",
    "        X = np.concatenate((ones_col, X), axis=1)\n",
    "        y_proba_1 = np.dot(X, self.betas)\n",
    "        probas = []\n",
    "        for proba_1 in y_proba_1:\n",
    "            proba = np.zeros(2)\n",
    "            # Normalize the probability\n",
    "            if proba_1 > 1:\n",
    "                proba_1 = 1\n",
    "            elif proba_1 < 0:\n",
    "                proba_1 = 0\n",
    "            proba[0] = 1 - proba_1\n",
    "            proba[1] = proba_1\n",
    "            probas.append(proba)\n",
    "        probas = np.array(probas)\n",
    "        return probas\n",
    "    \n",
    "    def score(self, X, y):\n",
    "        y_hat = self.predict(X)\n",
    "        \n",
    "        if len(y_hat) != len(y):\n",
    "            raise ValueError('Unequal length between the predictions and the true value.')\n",
    "        \n",
    "        correct_label = 0\n",
    "        for index, label in enumerate(y):\n",
    "            if label == y_hat[index][0]:\n",
    "                correct_label += 1\n",
    "        return correct_label / len(y)\n",
    "    \n",
    "    def __str__(self):\n",
    "        return 'Linear Regresion classification'"
   ]
  },
  {
   "cell_type": "code",
   "execution_count": 107,
   "metadata": {
    "scrolled": true
   },
   "outputs": [
    {
     "name": "stdout",
     "output_type": "stream",
     "text": [
      "Linear regression on the train set : 0.998794675610523\n",
      "Linear regression on the test set : 0.9987977060657325\n"
     ]
    }
   ],
   "source": [
    "# Fit the linear model for classification\n",
    "lr_classification = LinearRegression_Classification()\n",
    "lr_classification.fit(X_test, y_test)\n",
    "print('Linear regression on the train set : {}'.format(lr_classification.score(X_train, y_train.values)))\n",
    "print('Linear regression on the test set : {}'.format(lr_classification.score(X_test, y_test.values)))"
   ]
  },
  {
   "cell_type": "code",
   "execution_count": 109,
   "metadata": {},
   "outputs": [
    {
     "data": {
      "text/plain": [
       "array([[93809,    16],\n",
       "       [   97,    65]])"
      ]
     },
     "execution_count": 109,
     "metadata": {},
     "output_type": "execute_result"
    }
   ],
   "source": [
    "confusion_matrix(y_test, lr_classification.predict(X_test))"
   ]
  },
  {
   "cell_type": "markdown",
   "metadata": {},
   "source": [
    "### 3. Logistic Model for Classification of Credit Card Fraud\n",
    "$$\\text{Train accuracy}:  0.999245362121$$\n",
    "\n",
    "$$\\text{Test accuracy}:  0.999170097992$$\n",
    "\n",
    "$$\\text{TPR} = \\frac{100}{100 + 62} = .617$$\n",
    "\n",
    "We can see that TPR has improved a lot, whereas there is only slight change in the accuracy score as we have used a very unbalanced dataset."
   ]
  },
  {
   "cell_type": "code",
   "execution_count": 12,
   "metadata": {},
   "outputs": [
    {
     "name": "stdout",
     "output_type": "stream",
     "text": [
      "Train accuracy:  0.999245362121\n",
      "Test accuracy:  0.999170097992\n"
     ]
    }
   ],
   "source": [
    "from sklearn.linear_model import LogisticRegressionCV\n",
    "from sklearn.metrics import accuracy_score\n",
    "logregcv = LogisticRegressionCV(random_state = 182) # By default LBGFS induces L2 norm.\n",
    "logregcv.fit(X_train, y_train)\n",
    "y_hat_train = logregcv.predict(X_train)\n",
    "y_hat_test = logregcv.predict(X_test)\n",
    "print(\"Train accuracy: \", accuracy_score(y_train, y_hat_train))\n",
    "print(\"Test accuracy: \", accuracy_score(y_test, y_hat_test))"
   ]
  },
  {
   "cell_type": "code",
   "execution_count": 13,
   "metadata": {},
   "outputs": [
    {
     "data": {
      "text/plain": [
       "array([[93809,    16],\n",
       "       [   62,   100]])"
      ]
     },
     "execution_count": 13,
     "metadata": {},
     "output_type": "execute_result"
    }
   ],
   "source": [
    "# Confusion matrix for Log model\n",
    "confusion_matrix(y_test, y_hat_test)"
   ]
  },
  {
   "cell_type": "markdown",
   "metadata": {},
   "source": [
    "### 4. Simple Decision Tree - Cross validation for the Tree Depth\n",
    "\n",
    "$$\\text{The best decision tree on Train} : 0.9996436432239807$$\n",
    "$$\\text{The best decision tree on Test} : 0.9992977752242331$$\n",
    "$$\\text{TPR} = \\frac{119}{119 + 43} = 0.73456790123$$"
   ]
  },
  {
   "cell_type": "code",
   "execution_count": 14,
   "metadata": {
    "collapsed": true
   },
   "outputs": [],
   "source": [
    "# Visualize the train/test accuracy change as the depths increase\n",
    "depths = [2,3,5,8,10,15,20,25,30,50]\n",
    "train_accuracy = []\n",
    "test_accuracy = []\n",
    "for depth in depths:\n",
    "    dt = DecisionTree(max_depth = depth)\n",
    "    dt.fit(X_train, y_train)\n",
    "    train_accuracy.append(dt.score(X_train, y_train))\n",
    "    test_accuracy.append(dt.score(X_test, y_test))"
   ]
  },
  {
   "cell_type": "code",
   "execution_count": 15,
   "metadata": {},
   "outputs": [
    {
     "data": {
      "text/plain": [
       "<matplotlib.legend.Legend at 0x10ea3ccf8>"
      ]
     },
     "execution_count": 15,
     "metadata": {},
     "output_type": "execute_result"
    },
    {
     "data": {
      "image/png": "[encoded data removed]",
      "text/plain": [
       "<matplotlib.figure.Figure at 0x10ea68668>"
      ]
     },
     "metadata": {},
     "output_type": "display_data"
    }
   ],
   "source": [
    "# Plot\n",
    "fig, ax = plt.subplots(1, 1, figsize = (8, 8))\n",
    "ax.plot(depths, train_accuracy, 's-', label = 'train', color = 'blue', alpha = 0.5)\n",
    "ax.plot(depths, test_accuracy, 's-', label = 'test', color = 'green', alpha = 0.5)\n",
    "ax.set_xlabel('Depths', size = 15)\n",
    "ax.set_ylabel('Accuracy', size = 15)\n",
    "ax.set_title('Train vs Test accuracy', size = 20)\n",
    "ax.legend(loc = 'best')"
   ]
  },
  {
   "cell_type": "markdown",
   "metadata": {},
   "source": [
    "We notice that as the depths of the decision trees go up, the train accuracy approaches 1 whereas the test accuracy fails significantly. This is a sign of overfitting so we choose to cross validate for the optimal depth. We redefine the tree depths."
   ]
  },
  {
   "cell_type": "code",
   "execution_count": 16,
   "metadata": {
    "collapsed": true
   },
   "outputs": [
    {
     "name": "stdout",
     "output_type": "stream",
     "text": [
      "2\n",
      "3\n",
      "4\n",
      "5\n",
      "6\n",
      "7\n",
      "8\n",
      "9\n",
      "10\n"
     ]
    }
   ],
   "source": [
    "depths = [2,3,4,5,6,7,8,9,10]\n",
    "kf = KFold(n_splits = 3)\n",
    "best_score = -float('inf')\n",
    "best_depth = None\n",
    "all_scores = []\n",
    "for depth in depths:\n",
    "    print(depth)\n",
    "    dt = DecisionTree(max_depth = depth)\n",
    "    val_scores = []\n",
    "    for train_index, val_index in kf.split(X_train):\n",
    "        X_train_cv, X_val_cv = X_train.iloc[train_index], X_train.iloc[val_index]\n",
    "        y_train_cv, y_val_cv = y_train.iloc[train_index], y_train.iloc[val_index]\n",
    "        dt.fit(X_train_cv, y_train_cv)\n",
    "        val_scores.append(dt.score(X_val_cv, y_val_cv))\n",
    "    cur_score = np.mean(val_scores)\n",
    "    all_scores.append(cur_score)\n",
    "    if cur_score > best_score:\n",
    "        best_score = cur_score\n",
    "        best_depth = depth"
   ]
  },
  {
   "cell_type": "code",
   "execution_count": 17,
   "metadata": {},
   "outputs": [
    {
     "name": "stdout",
     "output_type": "stream",
     "text": [
      "The best depth by cross validation is 7\n"
     ]
    }
   ],
   "source": [
    "print('The best depth by cross validation is {}'.format(best_depth))"
   ]
  },
  {
   "cell_type": "code",
   "execution_count": 18,
   "metadata": {},
   "outputs": [
    {
     "data": {
      "text/plain": [
       "<matplotlib.legend.Legend at 0x10e8b67f0>"
      ]
     },
     "execution_count": 18,
     "metadata": {},
     "output_type": "execute_result"
    },
    {
     "data": {
      "image/png": "[encoded data removed]",
      "text/plain": [
       "<matplotlib.figure.Figure at 0x10f5fb0f0>"
      ]
     },
     "metadata": {},
     "output_type": "display_data"
    }
   ],
   "source": [
    "# Visualize how cross validaton reduce the issue of overfitting\n",
    "fig, ax = plt.subplots(1, 1, figsize = (8, 8))\n",
    "ax.plot(depths, all_scores, 's-',label = 'cross validation scores', color = 'blue', alpha = 0.5)\n",
    "ax.set_xlabel('Depths', size = 15)\n",
    "ax.set_ylabel('Accuracy', size = 15)\n",
    "ax.set_title('Depth vs Cross Validation accuracy', size = 20)\n",
    "ax.legend(loc = 'best')"
   ]
  },
  {
   "cell_type": "code",
   "execution_count": 19,
   "metadata": {},
   "outputs": [
    {
     "name": "stdout",
     "output_type": "stream",
     "text": [
      "The best decision tree on Train : 0.9997170107955141\n",
      "The best decision tree on Test : 0.9993190547628927\n"
     ]
    }
   ],
   "source": [
    "# Fit the decision tree with the best depth and report the accuracy score\n",
    "best_decision_tree = DecisionTree(max_depth = best_depth)\n",
    "best_decision_tree.fit(X_train, y_train)\n",
    "print('The best decision tree on Train : {}'.format(best_decision_tree.score(X_train, y_train)))\n",
    "print('The best decision tree on Test : {}'.format(best_decision_tree.score(X_test, y_test)))"
   ]
  },
  {
   "cell_type": "code",
   "execution_count": 20,
   "metadata": {},
   "outputs": [
    {
     "data": {
      "text/plain": [
       "array([[93813,    12],\n",
       "       [   52,   110]])"
      ]
     },
     "execution_count": 20,
     "metadata": {},
     "output_type": "execute_result"
    }
   ],
   "source": [
    "confusion_matrix(y_test, best_decision_tree.predict(X_test))"
   ]
  },
  {
   "cell_type": "markdown",
   "metadata": {},
   "source": [
    "### 5. Random Forest\n",
    "Random Forest, consists of simple decision trees, each with different set of predictors, makes predictions by voting for the label. We will use the tree depth from the previous question that prevents the issue of overfitting and can reduce the runtime of training the model. Random forest has number of parameters other than the tree depth that we can tune using cross validation：\n",
    " - number of predictors in each decision tree\n",
    " - number of trees in the model\n",
    "\n",
    "After cross validation we have the following results:\n",
    "\n",
    "$$\\text{Random forest on the Train set accuracy} : 0.9997589351221046$$\n",
    "$$\\text{Random forest on the Test set accuracy} : 0.9994573717641801$$\n",
    "$$\\text{TPR} = \\frac{124}{124 + 38} = 0.76543209876 $$"
   ]
  },
  {
   "cell_type": "code",
   "execution_count": 21,
   "metadata": {},
   "outputs": [
    {
     "name": "stdout",
     "output_type": "stream",
     "text": [
      "5\n",
      "10\n",
      "15\n",
      "20\n",
      "50\n",
      "75\n",
      "100\n"
     ]
    }
   ],
   "source": [
    "# Visualize the impact of number of trees on accuracy as the number of trees goes up\n",
    "number_of_trees = [5,10,15,20,50,75,100]\n",
    "train_scores = []\n",
    "test_scores = []\n",
    "for number_of_tree in number_of_trees:\n",
    "    print(number_of_tree)\n",
    "    rf = RandomForestClassifier(n_estimators = number_of_tree, max_depth = best_depth)\n",
    "    rf.fit(X_train, y_train)\n",
    "    train_scores.append(rf.score(X_train, y_train))\n",
    "    test_scores.append(rf.score(X_test, y_test))"
   ]
  },
  {
   "cell_type": "code",
   "execution_count": 22,
   "metadata": {
    "scrolled": false
   },
   "outputs": [
    {
     "data": {
      "text/plain": [
       "<matplotlib.legend.Legend at 0x10e206940>"
      ]
     },
     "execution_count": 22,
     "metadata": {},
     "output_type": "execute_result"
    },
    {
     "data": {
      "image/png": "[encoded data removed]",
      "text/plain": [
       "<matplotlib.figure.Figure at 0x10e903048>"
      ]
     },
     "metadata": {},
     "output_type": "display_data"
    }
   ],
   "source": [
    "# Visualize the impact of number of trees in the random forest\n",
    "# Plot\n",
    "fig, ax = plt.subplots(1, 1, figsize = (8, 8))\n",
    "ax.plot(number_of_trees, train_scores, label = 'train', color = 'blue', alpha = 0.5)\n",
    "ax.plot(number_of_trees, test_scores, label = 'test', color = 'green', alpha = 0.5)\n",
    "ax.set_xlabel('Number of Trees in the forest', size = 15)\n",
    "ax.set_ylabel('Accuracy', size = 15)\n",
    "ax.set_title('Train vs Test accuracy', size = 20)\n",
    "ax.legend(loc = 'best', fontsize = 13)"
   ]
  },
  {
   "cell_type": "markdown",
   "metadata": {},
   "source": [
    "We observe that the train and test acccuracy reach the highest around 20 number of trees and stabilize after we have enough number of trees."
   ]
  },
  {
   "cell_type": "code",
   "execution_count": 24,
   "metadata": {
    "collapsed": true
   },
   "outputs": [
    {
     "name": "stdout",
     "output_type": "stream",
     "text": [
      "2\n",
      "3\n",
      "4\n",
      "5\n",
      "6\n",
      "7\n",
      "8\n",
      "9\n",
      "10\n",
      "11\n",
      "12\n",
      "13\n",
      "14\n",
      "15\n",
      "16\n",
      "17\n",
      "18\n",
      "19\n"
     ]
    }
   ],
   "source": [
    "# Visualize the impact of number of features\n",
    "number_of_features = [i for i in range(2, 20)]\n",
    "fixed_number_of_trees = 10\n",
    "train_scores = []\n",
    "test_scores = []\n",
    "for number_of_feature in number_of_features:\n",
    "    print(number_of_feature)\n",
    "    rf = RandomForestClassifier(n_estimators = fixed_number_of_trees, max_depth = best_depth, max_features = number_of_feature)\n",
    "    rf.fit(X_train, y_train)\n",
    "    train_scores.append(rf.score(X_train, y_train))\n",
    "    test_scores.append(rf.score(X_test, y_test))"
   ]
  },
  {
   "cell_type": "code",
   "execution_count": 26,
   "metadata": {
    "scrolled": false
   },
   "outputs": [
    {
     "data": {
      "text/plain": [
       "<matplotlib.legend.Legend at 0x11190bf60>"
      ]
     },
     "execution_count": 26,
     "metadata": {},
     "output_type": "execute_result"
    },
    {
     "data": {
      "image/png": "[encoded data removed]",
      "text/plain": [
       "<matplotlib.figure.Figure at 0x10e8fd208>"
      ]
     },
     "metadata": {},
     "output_type": "display_data"
    }
   ],
   "source": [
    "# Visualize the impact of number of features used in each decision tree\n",
    "# Plot\n",
    "fig, ax = plt.subplots(1, 1, figsize = (8, 8))\n",
    "ax.plot(number_of_features, train_scores, 's-', label = 'train', color = 'blue', alpha = 0.5)\n",
    "ax.plot(number_of_features, test_scores, 's-', label = 'test', color = 'green', alpha = 0.5)\n",
    "ax.set_xlabel('Features used in each decisn tree', size = 15)\n",
    "ax.set_ylabel('Accuracy', size = 15)\n",
    "ax.set_title('Train vs Test accuracy', size = 20)\n",
    "ax.legend(loc = 'best', fontsize = 13)"
   ]
  },
  {
   "cell_type": "markdown",
   "metadata": {},
   "source": [
    "We observe that the lower the number of features in a single decision tree, the lower the test accuracy will be. But after the number of features increase to a certain number, the random forest will suffer from overfitting. Therefore, we decide to extend the idea of cross validation : cross validate on both the number of features and the number of trees at the same time to find the best combination."
   ]
  },
  {
   "cell_type": "code",
   "execution_count": 29,
   "metadata": {
    "collapsed": true
   },
   "outputs": [
    {
     "name": "stdout",
     "output_type": "stream",
     "text": [
      "5 6\n",
      "5 8\n",
      "5 10\n",
      "5 12\n",
      "5 16\n",
      "5 18\n",
      "5 20\n",
      "15 6\n",
      "15 8\n",
      "15 10\n",
      "15 12\n",
      "15 16\n",
      "15 18\n",
      "15 20\n",
      "20 6\n",
      "20 8\n",
      "20 10\n",
      "20 12\n",
      "20 16\n",
      "20 18\n",
      "20 20\n",
      "25 6\n",
      "25 8\n",
      "25 10\n",
      "25 12\n",
      "25 16\n",
      "25 18\n",
      "25 20\n",
      "35 6\n",
      "35 8\n",
      "35 10\n",
      "35 12\n",
      "35 16\n",
      "35 18\n",
      "35 20\n",
      "40 6\n",
      "40 8\n",
      "40 10\n",
      "40 12\n",
      "40 16\n",
      "40 18\n",
      "40 20\n"
     ]
    }
   ],
   "source": [
    "# number of trees and number of features in cross validation\n",
    "cross_num_trees = [5,15,20,25,35,40]\n",
    "cross_num_features = [6,8,10,12,16,18,20]\n",
    "cross_val_scores = []\n",
    "kf = KFold(n_splits = 2)\n",
    "best_num_tree = None\n",
    "best_num_feature = None\n",
    "best_score = -float('inf')\n",
    "for num_tree in cross_num_trees:\n",
    "    for num_feature in cross_num_features:\n",
    "        print(num_tree, num_feature)\n",
    "        val_scores = []\n",
    "        for train_index, val_index in kf.split(X_train):\n",
    "            X_train_cv, X_val_cv = X_train.iloc[train_index], X_train.iloc[val_index]\n",
    "            y_train_cv, y_val_cv = y_train.iloc[train_index], y_train.iloc[val_index]\n",
    "            rf = RandomForestClassifier(n_estimators = num_tree, max_depth = best_depth, max_features = num_feature)\n",
    "            rf.fit(X_train_cv, y_train_cv)\n",
    "            val_scores.append(rf.score(X_val_cv, y_val_cv))\n",
    "        cur_score = np.mean(val_scores)\n",
    "        if cur_score > best_score:\n",
    "            best_num_tree = num_tree\n",
    "            best_num_feature = num_feature\n",
    "            best_score = cur_score"
   ]
  },
  {
   "cell_type": "code",
   "execution_count": 31,
   "metadata": {},
   "outputs": [
    {
     "name": "stdout",
     "output_type": "stream",
     "text": [
      "The best number of trees in the random forest: 25\n",
      "The best number of features in a single decision tree : 12\n"
     ]
    }
   ],
   "source": [
    "print('The best number of trees in the random forest: {}'.format(best_num_tree))\n",
    "print('The best number of features in a single decision tree : {}'.format(best_num_feature))"
   ]
  },
  {
   "cell_type": "code",
   "execution_count": 33,
   "metadata": {},
   "outputs": [
    {
     "name": "stdout",
     "output_type": "stream",
     "text": [
      "Random forest on the Train set accuracy : 0.9997589351221046\n",
      "Random forest on the Test set accuracy : 0.9994573717641801\n"
     ]
    }
   ],
   "source": [
    "# Retrieve the best random forest model by cross validation\n",
    "rf_best = RandomForestClassifier(n_estimators = best_num_tree, max_depth = best_depth, max_features = best_num_feature)\n",
    "rf_best.fit(X_train, y_train)\n",
    "print('Random forest on the Train set accuracy : {}'.format(rf_best.score(X_train, y_train)))\n",
    "print('Random forest on the Test set accuracy : {}'.format(rf_best.score(X_test, y_test)))"
   ]
  },
  {
   "cell_type": "code",
   "execution_count": 34,
   "metadata": {},
   "outputs": [
    {
     "data": {
      "text/plain": [
       "array([[93812,    13],\n",
       "       [   38,   124]])"
      ]
     },
     "execution_count": 34,
     "metadata": {},
     "output_type": "execute_result"
    }
   ],
   "source": [
    "confusion_matrix(y_test, rf_best.predict(X_test))"
   ]
  },
  {
   "cell_type": "markdown",
   "metadata": {},
   "source": [
    "### 6. LDA\n",
    "We also tried other model learning the boundary of the classification :\n",
    "$$\\text{LDA on train} : 0.9994235405093805$$\n",
    "$$\\text{LDA on test} : 0.9993403343015523$$\n",
    "$$\\text{TPR} = \\frac{123}{123 + 39} = 0.75925925925$$"
   ]
  },
  {
   "cell_type": "code",
   "execution_count": 35,
   "metadata": {},
   "outputs": [
    {
     "name": "stdout",
     "output_type": "stream",
     "text": [
      "LDA on train : 0.9994235405093805\n",
      "LDA on test : 0.9993403343015523\n"
     ]
    }
   ],
   "source": [
    "# Fit LDA\n",
    "lda = LinearDiscriminantAnalysis()\n",
    "lda.fit(X_train, y_train)\n",
    "print('LDA on train : {}'.format(lda.score(X_train, y_train)))\n",
    "print('LDA on test : {}'.format(lda.score(X_test, y_test)))"
   ]
  },
  {
   "cell_type": "code",
   "execution_count": 36,
   "metadata": {},
   "outputs": [
    {
     "data": {
      "text/plain": [
       "array([[93802,    23],\n",
       "       [   39,   123]])"
      ]
     },
     "execution_count": 36,
     "metadata": {},
     "output_type": "execute_result"
    }
   ],
   "source": [
    "confusion_matrix(y_test, lda.predict(X_test))"
   ]
  },
  {
   "cell_type": "markdown",
   "metadata": {},
   "source": [
    "### 7. QDA\n",
    "$$\\text{QDA on train} : 0.9762655906089508$$\n",
    "$$\\text{QDA on test} : 0.9761562769319161$$\n",
    "$$\\text{TPR} = \\frac{136}{26 + 139} = 0.83950617284$$"
   ]
  },
  {
   "cell_type": "code",
   "execution_count": 37,
   "metadata": {},
   "outputs": [
    {
     "name": "stdout",
     "output_type": "stream",
     "text": [
      "QDA on train : 0.9762655906089508\n",
      "QDA on test : 0.9761562769319161\n"
     ]
    }
   ],
   "source": [
    "# Fit QDA\n",
    "qda = QuadraticDiscriminantAnalysis()\n",
    "qda.fit(X_train, y_train)\n",
    "print('QDA on train : {}'.format(qda.score(X_train, y_train)))\n",
    "print('QDA on test : {}'.format(qda.score(X_test, y_test)))"
   ]
  },
  {
   "cell_type": "code",
   "execution_count": 38,
   "metadata": {},
   "outputs": [
    {
     "data": {
      "text/plain": [
       "array([[91610,  2215],\n",
       "       [   26,   136]])"
      ]
     },
     "execution_count": 38,
     "metadata": {},
     "output_type": "execute_result"
    }
   ],
   "source": [
    "confusion_matrix(y_test, qda.predict(X_test))"
   ]
  },
  {
   "cell_type": "markdown",
   "metadata": {
    "collapsed": true
   },
   "source": [
    "## Evaluation : Area Under the Curve (AUC) Performance Metric"
   ]
  },
  {
   "cell_type": "code",
   "execution_count": 30,
   "metadata": {
    "collapsed": true
   },
   "outputs": [],
   "source": [
    "def plot_roc(models, model_names, X_test, y_test):\n",
    "    \"\"\" Function to plot the roc curves for the above models we fit in. Larger areas covered by the roc curves\n",
    "        indicate better performance of the model, as ROC curve represents the trade-off between TPR and FPR with\n",
    "        different threshold.\n",
    "    \"\"\"\n",
    "    fig, ax = plt.subplot(1, 1, figsize = (10,10))\n",
    "    for index, model in enumerate(models):\n",
    "        # fpr, tpr, thresholds = metrics.roc_curve(y, scores)\n",
    "        fpr, tpr, thresholds = metrics.roc_curve(y_test, model.predict_proba(X_test)[:,1])\n",
    "        ax.plot(fpr, tpr, label = 'ROC curve for ' + model_names[i], color = 'gold')\n",
    "        ax.set_xlabel('False positive rate')\n",
    "        ax.set_ylabel('True positive rate')\n",
    "    ax.set_title('ROC curves')\n",
    "    ax.legend(loc = 'best')"
   ]
  },
  {
   "cell_type": "code",
   "execution_count": null,
   "metadata": {
    "collapsed": true
   },
   "outputs": [],
   "source": [
    "models = [zero]"
   ]
  }
 ],
 "metadata": {
  "kernelspec": {
   "display_name": "Python 3",
   "language": "python",
   "name": "python3"
  },
  "language_info": {
   "codemirror_mode": {
    "name": "ipython",
    "version": 3
   },
   "file_extension": ".py",
   "mimetype": "text/x-python",
   "name": "python",
   "nbconvert_exporter": "python",
   "pygments_lexer": "ipython3",
   "version": "3.6.3"
  }
 },
 "nbformat": 4,
 "nbformat_minor": 2
}
